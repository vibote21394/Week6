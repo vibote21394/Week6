{
 "cells": [
  {
   "cell_type": "code",
   "execution_count": null,
   "id": "13a05a2c-59dd-47a9-8a10-42855c8255ff",
   "metadata": {},
   "outputs": [],
   "source": [
    "class Account:\n",
    "    def __init__(self, account_number, balance=0):\n",
    "        self.account_number = account_number\n",
    "        self.balance = balance\n",
    "    \n",
    "    def deposit(self, amount):\n",
    "        \"\"\"Adds money to the account\"\"\"\n",
    "        self.balance += amount\n",
    "        print(f\"Deposited {amount}. New balance is {self.balance}\")\n",
    "    \n",
    "    def withdraw(self, amount):\n",
    "        \"\"\"Removes money from the account if enough balance is available\"\"\"\n",
    "        if amount <= self.balance:\n",
    "            self.balance -= amount\n",
    "            print(f\"Withdrew {amount}. New balance is {self.balance}\")\n",
    "        else:\n",
    "            print(\"Insufficient balance\")\n",
    "    \n",
    "    def display_balance(self):\n",
    "        \"\"\"Shows the current balance\"\"\"\n",
    "        print(f\"Account Balance: {self.balance}\")\n"
   ]
  },
  {
   "cell_type": "code",
   "execution_count": null,
   "id": "5bedc62e-ae16-4329-82d9-72f9fd4b5d35",
   "metadata": {},
   "outputs": [],
   "source": [
    "class Customer:\n",
    "    def __init__(self, name, account):\n",
    "        self.name = name\n",
    "        self.account = account\n",
    "    \n",
    "    def display_customer_info(self):\n",
    "        \"\"\"Displays customer info along with account balance\"\"\"\n",
    "        print(f\"Customer: {self.name}\")\n",
    "        self.account.display_balance()\n"
   ]
  },
  {
   "cell_type": "code",
   "execution_count": null,
   "id": "f2cb5c96-e176-4251-89d0-9e51542bdc35",
   "metadata": {},
   "outputs": [],
   "source": [
    "class Transaction:\n",
    "    def __init__(self, transaction_type, amount):\n",
    "        self.transaction_type = transaction_type\n",
    "        self.amount = amount\n",
    "    \n",
    "    def process_transaction(self, account):\n",
    "        \"\"\"Processes the transaction (either deposit or withdrawal)\"\"\"\n",
    "        if self.transaction_type == \"deposit\":\n",
    "            account.deposit(self.amount)\n",
    "        elif self.transaction_type == \"withdraw\":\n",
    "            account.withdraw(self.amount)\n",
    "        else:\n",
    "            print(\"Invalid transaction type\")\n"
   ]
  },
  {
   "cell_type": "code",
   "execution_count": 10,
   "id": "e640909e-cd24-4a65-9a78-ba3fec1780e5",
   "metadata": {},
   "outputs": [
    {
     "name": "stdout",
     "output_type": "stream",
     "text": [
      "Customer: Matia Vibote\n",
      "Account Balance: 10000\n",
      "Deposited 5000. New balance is 15000\n",
      "Withdrew 10000. New balance is 5000\n",
      "Customer: Matia Vibote\n",
      "Account Balance: 5000\n"
     ]
    }
   ],
   "source": [
    "# Create an Account\n",
    "account1 = Account(account_number=\"123456\", balance=10000)\n",
    "\n",
    "# Create a Customer\n",
    "customer1 = Customer(name=\"Matia Vibote\", account=account1)\n",
    "\n",
    "# Display Customer Info\n",
    "customer1.display_customer_info()\n",
    "\n",
    "# Perform a Deposit\n",
    "transaction1 = Transaction(transaction_type=\"deposit\", amount=5000)\n",
    "transaction1.process_transaction(account1)\n",
    "\n",
    "# Perform a Withdrawal\n",
    "transaction2 = Transaction(transaction_type=\"withdraw\", amount=10000)\n",
    "transaction2.process_transaction(account1)\n",
    "\n",
    "# Display Updated Customer Info\n",
    "customer1.display_customer_info()\n"
   ]
  },
  {
   "cell_type": "code",
   "execution_count": null,
   "id": "72239cef-7320-4867-8561-fee5045455ab",
   "metadata": {},
   "outputs": [],
   "source": []
  }
 ],
 "metadata": {
  "kernelspec": {
   "display_name": "Python 3 (ipykernel)",
   "language": "python",
   "name": "python3"
  },
  "language_info": {
   "codemirror_mode": {
    "name": "ipython",
    "version": 3
   },
   "file_extension": ".py",
   "mimetype": "text/x-python",
   "name": "python",
   "nbconvert_exporter": "python",
   "pygments_lexer": "ipython3",
   "version": "3.12.7"
  }
 },
 "nbformat": 4,
 "nbformat_minor": 5
}
