{
 "cells": [
  {
   "cell_type": "code",
   "execution_count": 11,
   "id": "b913c127-1030-48d6-b873-04ba30f94306",
   "metadata": {},
   "outputs": [],
   "source": [
    "#activity 1\n",
    "class Animal:\n",
    "    def __init__(self, name):\n",
    "        self.name = name\n",
    "    \n",
    "    def speak(self):\n",
    "        raise NotImplementedError(\"Subclass must implement abstract method\")\n"
   ]
  },
  {
   "cell_type": "code",
   "execution_count": 3,
   "id": "831de0ee-56a7-4cd5-8a63-0fe30b336d4c",
   "metadata": {},
   "outputs": [],
   "source": [
    "class Dog(Animal):\n",
    "    def speak(self):\n",
    "        return f\"{self.name} says Woof!\"\n",
    "\n",
    "class Cat(Animal):\n",
    "    def speak(self):\n",
    "        return f\"{self.name} says Meow!\"\n"
   ]
  },
  {
   "cell_type": "code",
   "execution_count": 16,
   "id": "64ac75df-030f-4e1e-8f14-90a833644706",
   "metadata": {},
   "outputs": [
    {
     "name": "stdout",
     "output_type": "stream",
     "text": [
      "Buddy says Woof!\n",
      "Whiskers says Meow!\n"
     ]
    }
   ],
   "source": [
    "dog = Dog(\"Buddy\")\n",
    "cat = Cat(\"Whiskers\")\n",
    "\n",
    "print(dog.speak())  # Output: Buddy says Woof!\n",
    "print(cat.speak())  # Output: Whiskers says Meow!\n"
   ]
  },
  {
   "cell_type": "code",
   "execution_count": 14,
   "id": "3dc132a6-224f-4efc-8c24-7741fef4da78",
   "metadata": {},
   "outputs": [],
   "source": [
    "#activity 2\n",
    "class Engine:\n",
    "    def __init__(self, type_of_engine):\n",
    "        self.type_of_engine = type_of_engine\n",
    "\n",
    "    def start(self):\n",
    "        return f\"The {self.type_of_engine} engine is now running.\"\n"
   ]
  },
  {
   "cell_type": "code",
   "execution_count": 6,
   "id": "3a5a857c-191b-4935-b066-fc9da4f41067",
   "metadata": {},
   "outputs": [],
   "source": [
    "class Car:\n",
    "    def __init__(self, make, model, engine):\n",
    "        self.make = make\n",
    "        self.model = model\n",
    "        self.engine = engine\n",
    "\n",
    "    def start(self):\n",
    "        return f\"{self.make} {self.model}: {self.engine.start()}\"\n"
   ]
  },
  {
   "cell_type": "code",
   "execution_count": 13,
   "id": "bba51501-4548-4c02-8b6e-c9af6231214b",
   "metadata": {},
   "outputs": [
    {
     "name": "stdout",
     "output_type": "stream",
     "text": [
      "Ford Mustang: The V8 engine is now running.\n"
     ]
    }
   ],
   "source": [
    "#activity 3\n",
    "engine = Engine(\"V8\")\n",
    "car = Car(\"Ford\", \"Mustang\", engine)\n",
    "\n",
    "print(car.start())  # Output: Ford Mustang: The V8 engine is now running.\n"
   ]
  },
  {
   "cell_type": "code",
   "execution_count": 15,
   "id": "696afd6f-bac2-4965-98c7-bf09d5d05c31",
   "metadata": {},
   "outputs": [],
   "source": [
    "#activity 3\n",
    "class Bird(Animal):\n",
    "    def speak(self):\n",
    "        return f\"{self.name} says Chirp!\"\n"
   ]
  },
  {
   "cell_type": "code",
   "execution_count": 9,
   "id": "97daa465-e793-4af4-8ffb-65441decdb6d",
   "metadata": {},
   "outputs": [],
   "source": [
    "def animal_sound(animal: Animal):\n",
    "    print(animal.speak())\n"
   ]
  },
  {
   "cell_type": "code",
   "execution_count": 10,
   "id": "6ffceea5-040f-4712-9c5d-f94076a16100",
   "metadata": {},
   "outputs": [
    {
     "name": "stdout",
     "output_type": "stream",
     "text": [
      "Buddy says Woof!\n",
      "Whiskers says Meow!\n",
      "Tweety says Chirp!\n"
     ]
    }
   ],
   "source": [
    "dog = Dog(\"Buddy\")\n",
    "cat = Cat(\"Whiskers\")\n",
    "bird = Bird(\"Tweety\")\n",
    "\n",
    "animal_sound(dog)  # Output: Buddy says Woof!\n",
    "animal_sound(cat)  # Output: Whiskers says Meow!\n",
    "animal_sound(bird) # Output: Tweety says Chirp!\n"
   ]
  },
  {
   "cell_type": "code",
   "execution_count": null,
   "id": "557c3477-f092-49b3-b511-67c7f0408da0",
   "metadata": {},
   "outputs": [],
   "source": []
  }
 ],
 "metadata": {
  "kernelspec": {
   "display_name": "Python 3 (ipykernel)",
   "language": "python",
   "name": "python3"
  },
  "language_info": {
   "codemirror_mode": {
    "name": "ipython",
    "version": 3
   },
   "file_extension": ".py",
   "mimetype": "text/x-python",
   "name": "python",
   "nbconvert_exporter": "python",
   "pygments_lexer": "ipython3",
   "version": "3.12.7"
  }
 },
 "nbformat": 4,
 "nbformat_minor": 5
}
